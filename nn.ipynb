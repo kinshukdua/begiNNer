{
 "cells": [
  {
   "cell_type": "code",
   "execution_count": 49,
   "id": "176e3612-396a-483e-87e1-0ffebbc82356",
   "metadata": {},
   "outputs": [],
   "source": [
    "import numpy as np\n",
    "class Linear:\n",
    "    def __init__(self, in_feat, out_feat):\n",
    "        self.size = (in_feat, out_feat)\n",
    "        self.weights = np.random.rand(in_feat, out_feat)\n",
    "        self.bias = np.random.rand(out_feat)\n",
    "\n",
    "    def forward(self, input):\n",
    "        return inp@weights+bias\n",
    "\n",
    "    def __call__(self,input):\n",
    "        return self.forward(input)\n",
    "    \n",
    "    def __repr__(self):\n",
    "        return f\"Linear Layer {self.size}\"\n",
    "        \n",
    "    def backward(self)\n",
    "        "
   ]
  },
  {
   "cell_type": "code",
   "execution_count": 60,
   "id": "faf5870e-d1ca-4206-88c0-ea00ad340a30",
   "metadata": {},
   "outputs": [
    {
     "data": {
      "text/plain": [
       "array([[1.03284743, 0.56864066, 0.49201001]])"
      ]
     },
     "execution_count": 60,
     "metadata": {},
     "output_type": "execute_result"
    }
   ],
   "source": [
    "layer1 = Linear(2,3)"
   ]
  },
  {
   "cell_type": "code",
   "execution_count": null,
   "id": "0cf3efe8-17db-42a3-a6f6-395ccc9104c6",
   "metadata": {},
   "outputs": [],
   "source": []
  }
 ],
 "metadata": {
  "kernelspec": {
   "display_name": "Python 3 (ipykernel)",
   "language": "python",
   "name": "python3"
  },
  "language_info": {
   "codemirror_mode": {
    "name": "ipython",
    "version": 3
   },
   "file_extension": ".py",
   "mimetype": "text/x-python",
   "name": "python",
   "nbconvert_exporter": "python",
   "pygments_lexer": "ipython3",
   "version": "3.10.8"
  }
 },
 "nbformat": 4,
 "nbformat_minor": 5
}
