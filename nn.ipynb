{
 "cells": [
  {
   "cell_type": "code",
   "execution_count": 31,
   "id": "176e3612-396a-483e-87e1-0ffebbc82356",
   "metadata": {},
   "outputs": [],
   "source": [
    "import numpy as np\n",
    "class Linear:\n",
    "    def __init__(self, in_feat, out_feat):\n",
    "        self.size = (in_feat, out_feat)\n",
    "        self.weights = np.random.rand(in_feat, out_feat)\n",
    "        self.bias = np.random.rand(out_feat)\n",
    "\n",
    "    def forward(self, x):\n",
    "        return x@self.weights+self.bias\n",
    "\n",
    "    def __call__(self,x):\n",
    "        return self.forward(x)\n",
    "    \n",
    "    def __repr__(self):\n",
    "        return f\"Linear Layer {self.size}\"\n",
    "        \n",
    "    def backward(self):\n",
    "        pass\n",
    "\n",
    "def sigmoid(z):\n",
    "    return 1/(1 + np.exp(-z))\n",
    "        "
   ]
  },
  {
   "cell_type": "code",
   "execution_count": 32,
   "id": "faf5870e-d1ca-4206-88c0-ea00ad340a30",
   "metadata": {},
   "outputs": [],
   "source": [
    "class MLP:\n",
    "    def __init__(self, input_size, output_size, hidden_size, activation=sigmoid):\n",
    "        self.input_size = input_size\n",
    "        self.output_size = output_size\n",
    "        self.hidden_size = hidden_size\n",
    "        self.activation = activation\n",
    "        self._create_model()\n",
    "\n",
    "    def _create_model(self):\n",
    "        self.layers = []\n",
    "        layer = Linear(self.input_size, self.hidden_size[0])\n",
    "        self.layers.append(layer)\n",
    "        for i in range(1,len(self.hidden_size)-1):\n",
    "            layer = Linear(self.hidden_size[i], self.hidden_size[i+1])\n",
    "            self.layers.append(layer)\n",
    "        layer = Linear(self.hidden_size[-1],  self.output_size)\n",
    "        self.layers.append(layer)\n",
    "\n",
    "    def forward(self, x_inp):\n",
    "        a = x_inp\n",
    "        for layer in self.layers:\n",
    "            z = layer(a)\n",
    "            a = self.activation(z)\n",
    "        return a\n",
    "\n",
    "    def __call__(self, x):\n",
    "        return self.forward(x)\n",
    "\n",
    "    def __repr__(self):\n",
    "        return f\"MLP of size: {self.input_size}x{self.hidden_size}x{self.output_size}\"\n",
    "        \n",
    "            "
   ]
  },
  {
   "cell_type": "code",
   "execution_count": 33,
   "id": "0cf3efe8-17db-42a3-a6f6-395ccc9104c6",
   "metadata": {},
   "outputs": [
    {
     "data": {
      "text/plain": [
       "[Linear Layer (2, 2), Linear Layer (2, 1)]"
      ]
     },
     "execution_count": 33,
     "metadata": {},
     "output_type": "execute_result"
    }
   ],
   "source": [
    "input_size = 2\n",
    "output_size = 1\n",
    "hidden_size = [2]\n",
    "batch = 2\n",
    "\n",
    "model = MLP(input_size, output_size, hidden_size)\n",
    "model.layers"
   ]
  },
  {
   "cell_type": "code",
   "execution_count": 34,
   "id": "06881251-c807-49c0-9da7-af40536d897d",
   "metadata": {},
   "outputs": [
    {
     "data": {
      "text/plain": [
       "array([[0.74104019, 0.06941699],\n",
       "       [0.81079007, 0.70610592]])"
      ]
     },
     "execution_count": 34,
     "metadata": {},
     "output_type": "execute_result"
    }
   ],
   "source": [
    "x = np.random.rand(batch, input_size)\n",
    "x"
   ]
  },
  {
   "cell_type": "code",
   "execution_count": 35,
   "id": "3c87a620-b50f-4aec-b56d-8ede37cdae22",
   "metadata": {},
   "outputs": [
    {
     "data": {
      "text/plain": [
       "array([[0.66265062],\n",
       "       [0.67707709]])"
      ]
     },
     "execution_count": 35,
     "metadata": {},
     "output_type": "execute_result"
    }
   ],
   "source": [
    "model(x)"
   ]
  },
  {
   "cell_type": "code",
   "execution_count": null,
   "id": "738f82ff-ef32-42dd-b17b-b877bfeefbe0",
   "metadata": {},
   "outputs": [],
   "source": []
  }
 ],
 "metadata": {
  "kernelspec": {
   "display_name": "Python 3 (ipykernel)",
   "language": "python",
   "name": "python3"
  },
  "language_info": {
   "codemirror_mode": {
    "name": "ipython",
    "version": 3
   },
   "file_extension": ".py",
   "mimetype": "text/x-python",
   "name": "python",
   "nbconvert_exporter": "python",
   "pygments_lexer": "ipython3",
   "version": "3.10.8"
  }
 },
 "nbformat": 4,
 "nbformat_minor": 5
}
